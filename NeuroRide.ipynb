{
 "cells": [
  {
   "cell_type": "code",
   "execution_count": 1,
   "id": "25c27983-e95e-41c9-8100-86de39a8a07e",
   "metadata": {},
   "outputs": [],
   "source": [
    "# import image module \n",
    "#from IPython.display import Image \n",
    "# get the image \n",
    "#Image(url=\"NeuroRide.png\", width=1000, height=20)  "
   ]
  },
  {
   "cell_type": "markdown",
   "id": "55779763-2920-4b98-aae4-0a06a3b3a6b8",
   "metadata": {},
   "source": [
    "![Neuroride](NeuroRide.png)"
   ]
  },
  {
   "cell_type": "code",
   "execution_count": 2,
   "id": "191d54e4-055f-4e2f-b0af-85b5d47fe105",
   "metadata": {},
   "outputs": [
    {
     "name": "stdout",
     "output_type": "stream",
     "text": [
      "Package                   Version\n",
      "------------------------- ----------------\n",
      "anyio                     4.8.0\n",
      "argon2-cffi               23.1.0\n",
      "argon2-cffi-bindings      21.2.0\n",
      "arrow                     1.3.0\n",
      "asttokens                 3.0.0\n",
      "async-lru                 2.0.4\n",
      "attrs                     24.3.0\n",
      "babel                     2.16.0\n",
      "beautifulsoup4            4.12.3\n",
      "bleach                    6.2.0\n",
      "boto3                     1.36.12\n",
      "botocore                  1.36.12\n",
      "certifi                   2024.12.14\n",
      "cffi                      1.17.1\n",
      "charset-normalizer        3.4.1\n",
      "colorama                  0.4.6\n",
      "comm                      0.2.2\n",
      "contourpy                 1.3.1\n",
      "cvzone                    1.6.1\n",
      "cycler                    0.12.1\n",
      "debugpy                   1.8.11\n",
      "decorator                 5.1.1\n",
      "defusedxml                0.7.1\n",
      "et_xmlfile                2.0.0\n",
      "executing                 2.1.0\n",
      "fastjsonschema            2.21.1\n",
      "filelock                  3.17.0\n",
      "filterpy                  1.4.5\n",
      "fonttools                 4.55.3\n",
      "fqdn                      1.5.1\n",
      "fsspec                    2025.2.0\n",
      "gdown                     5.2.0\n",
      "gitdb                     4.0.12\n",
      "GitPython                 3.1.44\n",
      "h11                       0.14.0\n",
      "httpcore                  1.0.7\n",
      "httpx                     0.28.1\n",
      "idna                      3.10\n",
      "imageio                   2.37.0\n",
      "ipykernel                 6.29.5\n",
      "ipython                   8.31.0\n",
      "ipywidgets                8.1.5\n",
      "isoduration               20.11.0\n",
      "jedi                      0.19.2\n",
      "Jinja2                    3.1.5\n",
      "jmespath                  1.0.1\n",
      "joblib                    1.4.2\n",
      "json5                     0.10.0\n",
      "jsonpointer               3.0.0\n",
      "jsonschema                4.23.0\n",
      "jsonschema-specifications 2024.10.1\n",
      "jupyter                   1.1.1\n",
      "jupyter_client            8.6.3\n",
      "jupyter-console           6.6.3\n",
      "jupyter_core              5.7.2\n",
      "jupyter-events            0.11.0\n",
      "jupyter-lsp               2.2.5\n",
      "jupyter_server            2.15.0\n",
      "jupyter_server_terminals  0.5.3\n",
      "jupyterlab                4.3.4\n",
      "jupyterlab_pygments       0.3.0\n",
      "jupyterlab_server         2.27.3\n",
      "jupyterlab_widgets        3.0.13\n",
      "kiwisolver                1.4.8\n",
      "lap                       0.5.12\n",
      "lazy_loader               0.4\n",
      "MarkupSafe                3.0.2\n",
      "matplotlib                3.10.0\n",
      "matplotlib-inline         0.1.7\n",
      "mistune                   3.1.0\n",
      "mpmath                    1.3.0\n",
      "narwhals                  1.24.2\n",
      "nbclient                  0.10.2\n",
      "nbconvert                 7.16.5\n",
      "nbformat                  5.10.4\n",
      "nest-asyncio              1.6.0\n",
      "networkx                  3.4.2\n",
      "notebook                  7.3.2\n",
      "notebook_shim             0.2.4\n",
      "numpy                     2.1.1\n",
      "opencv-python             4.11.0.86\n",
      "openpyxl                  3.1.5\n",
      "overrides                 7.7.0\n",
      "packaging                 24.2\n",
      "pandas                    2.2.3\n",
      "pandocfilters             1.5.1\n",
      "parso                     0.8.4\n",
      "pillow                    11.1.0\n",
      "pip                       25.0.1\n",
      "platformdirs              4.3.6\n",
      "plotly                    6.0.0\n",
      "prometheus_client         0.21.1\n",
      "prompt_toolkit            3.0.48\n",
      "psutil                    6.1.1\n",
      "pure_eval                 0.2.3\n",
      "py-cpuinfo                9.0.0\n",
      "pycparser                 2.22\n",
      "pygame                    2.6.1\n",
      "Pygments                  2.19.1\n",
      "pyparsing                 3.2.1\n",
      "PySocks                   1.7.1\n",
      "python-dateutil           2.9.0.post0\n",
      "python-json-logger        3.2.1\n",
      "pytz                      2024.2\n",
      "pywin32                   308\n",
      "pywinpty                  2.0.14\n",
      "PyYAML                    6.0.2\n",
      "pyzmq                     26.2.0\n",
      "referencing               0.35.1\n",
      "requests                  2.32.3\n",
      "rfc3339-validator         0.1.4\n",
      "rfc3986-validator         0.1.1\n",
      "rpds-py                   0.22.3\n",
      "s3transfer                0.11.2\n",
      "scikit-image              0.25.2\n",
      "scikit-learn              1.6.1\n",
      "scipy                     1.15.1\n",
      "seaborn                   0.13.2\n",
      "Send2Trash                1.8.3\n",
      "setuptools                75.8.0\n",
      "six                       1.17.0\n",
      "smmap                     5.0.2\n",
      "sniffio                   1.3.1\n",
      "soupsieve                 2.6\n",
      "stack-data                0.6.3\n",
      "sympy                     1.13.1\n",
      "terminado                 0.18.1\n",
      "thop                      0.1.1-2209072238\n",
      "threadpoolctl             3.5.0\n",
      "tifffile                  2025.2.18\n",
      "tinycss2                  1.4.0\n",
      "torch                     2.6.0\n",
      "torchvision               0.21.0\n",
      "tornado                   6.4.2\n",
      "tqdm                      4.67.1\n",
      "traitlets                 5.14.3\n",
      "types-python-dateutil     2.9.0.20241206\n",
      "typing_extensions         4.12.2\n",
      "tzdata                    2024.2\n",
      "ultralytics               8.3.78\n",
      "ultralytics-thop          2.0.14\n",
      "uri-template              1.3.0\n",
      "urllib3                   2.3.0\n",
      "wcwidth                   0.2.13\n",
      "webcolors                 24.11.1\n",
      "webencodings              0.5.1\n",
      "websocket-client          1.8.0\n",
      "widgetsnbextension        4.0.13\n"
     ]
    }
   ],
   "source": [
    "!pip list "
   ]
  },
  {
   "cell_type": "markdown",
   "id": "e8ed491e-7aef-4466-865b-7b4b9590d7a7",
   "metadata": {},
   "source": [
    "### Importing the Dataset for Training the model (Multiple methods)\n",
    "- Method 1) Using gdown module and then output the imported dataset **Issue** : Memory Overhead\n",
    "- Method 2) Synchronizing GDrive as local disk on our desktop and then specifying the path so that it behaves as a   virtual  disk\n",
    "- Method 3) Mount Google Drive via google-drive-ocamlfuse (Linux Only)\n",
    "- Method 4)Specify the path directly to dataset on your local machine and train the model"
   ]
  },
  {
   "cell_type": "markdown",
   "id": "f53c1e7c-93fe-4f87-bbd1-825b7906420d",
   "metadata": {},
   "source": [
    "### Method 1"
   ]
  },
  {
   "cell_type": "markdown",
   "id": "096e47f2-402c-4411-b92c-9ca6094a40bc",
   "metadata": {},
   "source": [
    "![](fileid.png)"
   ]
  },
  {
   "cell_type": "markdown",
   "id": "afe219b7-fcbc-4397-9a20-a4ff12a645f1",
   "metadata": {},
   "source": [
    "### Importing the DataSet (Training set , Validation set , Test set inclusive )\n",
    "import gdown\n",
    "\n",
    "file_id = \"1aBcD123xyz\"  #file id from link \n",
    "\n",
    "output_path = \"dataset.zip\"  # Choose your filename\n",
    "\n",
    "gdown.download(f\"https://drive.google.com/uc?id={file_id}\", output_path, quiet=False)\n"
   ]
  },
  {
   "cell_type": "markdown",
   "id": "1a0d02a8-26ba-4b68-93af-e082c1b0a598",
   "metadata": {},
   "source": [
    "### Method 2 "
   ]
  },
  {
   "cell_type": "markdown",
   "id": "0fafefbf-c27e-4f8b-ba95-06dddb194567",
   "metadata": {},
   "source": [
    "![](gdrivedesk.png)"
   ]
  },
  {
   "cell_type": "markdown",
   "id": "8007f284-f5a8-4e8b-b1fd-c85541c18e03",
   "metadata": {},
   "source": [
    "### Method 3 (Linux Only)\n",
    "\n"
   ]
  },
  {
   "cell_type": "markdown",
   "id": "1b56f600-d55e-47d5-b484-6ba2ee53084e",
   "metadata": {},
   "source": [
    "1. Install dependencies:\n",
    "   \n",
    "   !sudo add-apt-repository universe\n",
    "\n",
    "   !sudo apt install google-drive-ocamlfuse\n",
    "   \n",
    "2. Authenticate and mount Google Drive:\n",
    "   \n",
    "    !google-drive-ocamlfuse\n",
    "   \n",
    "    !mkdir -p ~/gdrive\n",
    "   \n",
    "    !google-drive-ocamlfuse ~/gdrive\n",
    "   \n",
    "3. Use your dataset from ~/gdrive/MyDrive/Datasets/NeuroRide/"
   ]
  },
  {
   "cell_type": "markdown",
   "id": "0bdc59ca-0770-48f9-8d35-2721a7020b82",
   "metadata": {},
   "source": [
    "### Method 4 **(This is what we r going to use for now)**"
   ]
  },
  {
   "cell_type": "code",
   "execution_count": null,
   "id": "a48ab4b8-9245-450f-9b7c-cacbf59c5d9e",
   "metadata": {},
   "outputs": [],
   "source": []
  }
 ],
 "metadata": {
  "kernelspec": {
   "display_name": "Python 3 (ipykernel)",
   "language": "python",
   "name": "python3"
  },
  "language_info": {
   "codemirror_mode": {
    "name": "ipython",
    "version": 3
   },
   "file_extension": ".py",
   "mimetype": "text/x-python",
   "name": "python",
   "nbconvert_exporter": "python",
   "pygments_lexer": "ipython3",
   "version": "3.12.6"
  }
 },
 "nbformat": 4,
 "nbformat_minor": 5
}
